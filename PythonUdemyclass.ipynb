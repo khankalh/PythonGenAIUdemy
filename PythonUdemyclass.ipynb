{
  "nbformat": 4,
  "nbformat_minor": 0,
  "metadata": {
    "colab": {
      "provenance": [],
      "authorship_tag": "ABX9TyO30U4MfgQClgYlYosByZXe",
      "include_colab_link": true
    },
    "kernelspec": {
      "name": "python3",
      "display_name": "Python 3"
    },
    "language_info": {
      "name": "python"
    }
  },
  "cells": [
    {
      "cell_type": "markdown",
      "metadata": {
        "id": "view-in-github",
        "colab_type": "text"
      },
      "source": [
        "<a href=\"https://colab.research.google.com/github/khankalh/PythonGenAIUdemy/blob/main/PythonUdemyclass.ipynb\" target=\"_parent\"><img src=\"https://colab.research.google.com/assets/colab-badge.svg\" alt=\"Open In Colab\"/></a>"
      ]
    },
    {
      "cell_type": "markdown",
      "source": [],
      "metadata": {
        "id": "uVp1RTZLJkok"
      }
    },
    {
      "cell_type": "code",
      "source": [
        "print(\"Hello World\")"
      ],
      "metadata": {
        "colab": {
          "base_uri": "https://localhost:8080/"
        },
        "id": "miYVTh_eLH6A",
        "outputId": "bf926636-93fc-416f-d5fb-11e6f6f29e9d"
      },
      "execution_count": null,
      "outputs": [
        {
          "output_type": "stream",
          "name": "stdout",
          "text": [
            "Hello World\n"
          ]
        }
      ]
    },
    {
      "cell_type": "markdown",
      "source": [],
      "metadata": {
        "id": "wKDPiJfNJvGK"
      }
    },
    {
      "cell_type": "code",
      "source": [
        "name = \"Elon\"\n",
        "age = 53\n",
        "\n",
        "\n",
        "'''\n",
        "This part of the code will not be executed\n",
        "'''\n",
        "name,\",\",age"
      ],
      "metadata": {
        "colab": {
          "base_uri": "https://localhost:8080/"
        },
        "id": "dkL9lcq6HvrU",
        "outputId": "bee00a45-2715-4aad-cbfc-ce95ad0d87c5"
      },
      "execution_count": 9,
      "outputs": [
        {
          "output_type": "execute_result",
          "data": {
            "text/plain": [
              "('Hemant', ',', 43)"
            ]
          },
          "metadata": {},
          "execution_count": 9
        }
      ]
    },
    {
      "cell_type": "code",
      "source": [
        "name=input(\"Enter your name\")\n",
        "age = int(input(\"Enter your age\"))\n",
        "print(\"Your name is\",name,\",\",\"and your age is\", age)"
      ],
      "metadata": {
        "colab": {
          "base_uri": "https://localhost:8080/"
        },
        "id": "Xl8Mkaj0eWjl",
        "outputId": "ca08f155-459c-4855-a5b7-382ebb12cc1a"
      },
      "execution_count": 10,
      "outputs": [
        {
          "output_type": "stream",
          "name": "stdout",
          "text": [
            "Enter your nameAlan\n",
            "Enter your age45\n",
            "Your name is Alan , and your age is 45\n"
          ]
        }
      ]
    },
    {
      "cell_type": "code",
      "source": [
        "name=input(\"Enter your name\")\n",
        "age = int(input(\"Enter your age\"))\n",
        "print(name,\",\",\"Do you know that your age multipled by 2 is\", age*2)\n"
      ],
      "metadata": {
        "colab": {
          "base_uri": "https://localhost:8080/"
        },
        "id": "u1W_uyQ2eyKD",
        "outputId": "74b99ba8-726e-4689-d1ed-6331773b000b"
      },
      "execution_count": 13,
      "outputs": [
        {
          "output_type": "stream",
          "name": "stdout",
          "text": [
            "Enter your namenisha\n",
            "Enter your age25\n",
            "nisha , Do you know that your age multipled by 2 is 50\n"
          ]
        }
      ]
    },
    {
      "cell_type": "code",
      "source": [
        "age=int(input(\"Enter your age : \"))\n",
        "\n",
        "if age <13:\n",
        "  print(\"You are a child\")\n",
        "elif age <=19:\n",
        "    print(\"You are a teenager\")\n",
        "elif age >18 and age <=65:\n",
        "    print(\"You are an adult\")\n",
        "\n",
        "else:\n",
        "    print(\"You are a senior citizen\")"
      ],
      "metadata": {
        "colab": {
          "base_uri": "https://localhost:8080/"
        },
        "id": "aEfuMHgOhOsC",
        "outputId": "af8f405a-7e59-4073-c28e-5e0f180ef1cd"
      },
      "execution_count": 26,
      "outputs": [
        {
          "output_type": "stream",
          "name": "stdout",
          "text": [
            "Enter your age : 68\n",
            "You are a senior citizen\n"
          ]
        }
      ]
    },
    {
      "cell_type": "code",
      "source": [
        "total = 0\n",
        "for number in range(1, 100):\n",
        "    total += number\n",
        "print(\"The sum is:\", total)"
      ],
      "metadata": {
        "colab": {
          "base_uri": "https://localhost:8080/"
        },
        "id": "ViNNWOHXlpA8",
        "outputId": "af469694-9933-4674-977c-7d3629ba17d5"
      },
      "execution_count": 27,
      "outputs": [
        {
          "output_type": "stream",
          "name": "stdout",
          "text": [
            "The sum is: 4950\n"
          ]
        }
      ]
    },
    {
      "cell_type": "code",
      "source": [
        "num = int(input(\"Enter a number :\"))\n",
        "for number in range(1, 11):\n",
        "    print(num, \"*\", number, \" = : \", num * number)"
      ],
      "metadata": {
        "colab": {
          "base_uri": "https://localhost:8080/"
        },
        "id": "dgpMbrh7FWDS",
        "outputId": "b289f634-975c-469c-fe41-94069123137d"
      },
      "execution_count": 44,
      "outputs": [
        {
          "output_type": "stream",
          "name": "stdout",
          "text": [
            "Enter a number :999\n",
            "999 * 1  = :  999\n",
            "999 * 2  = :  1998\n",
            "999 * 3  = :  2997\n",
            "999 * 4  = :  3996\n",
            "999 * 5  = :  4995\n",
            "999 * 6  = :  5994\n",
            "999 * 7  = :  6993\n",
            "999 * 8  = :  7992\n",
            "999 * 9  = :  8991\n",
            "999 * 10  = :  9990\n"
          ]
        }
      ]
    },
    {
      "cell_type": "code",
      "source": [
        "for i in range(1, 51):\n",
        "    if i % 3 == 0 and i % 5 == 0:\n",
        "        print(\"FizzBuzz\")\n",
        "    elif i % 3 == 0:\n",
        "        print(\"Fizz\")\n",
        "    elif i % 5 == 0:\n",
        "        print(\"Buzz\")\n",
        "    else:\n",
        "        print(i)"
      ],
      "metadata": {
        "colab": {
          "base_uri": "https://localhost:8080/"
        },
        "id": "RNTr-t45Kjo_",
        "outputId": "86226965-f91a-45fd-9dcb-ea72270e0dcd"
      },
      "execution_count": 45,
      "outputs": [
        {
          "output_type": "stream",
          "name": "stdout",
          "text": [
            "1\n",
            "2\n",
            "Fizz\n",
            "4\n",
            "Buzz\n",
            "Fizz\n",
            "7\n",
            "8\n",
            "Fizz\n",
            "Buzz\n",
            "11\n",
            "Fizz\n",
            "13\n",
            "14\n",
            "FizzBuzz\n",
            "16\n",
            "17\n",
            "Fizz\n",
            "19\n",
            "Buzz\n",
            "Fizz\n",
            "22\n",
            "23\n",
            "Fizz\n",
            "Buzz\n",
            "26\n",
            "Fizz\n",
            "28\n",
            "29\n",
            "FizzBuzz\n",
            "31\n",
            "32\n",
            "Fizz\n",
            "34\n",
            "Buzz\n",
            "Fizz\n",
            "37\n",
            "38\n",
            "Fizz\n",
            "Buzz\n",
            "41\n",
            "Fizz\n",
            "43\n",
            "44\n",
            "FizzBuzz\n",
            "46\n",
            "47\n",
            "Fizz\n",
            "49\n",
            "Buzz\n"
          ]
        }
      ]
    }
  ]
}