{
  "nbformat": 4,
  "nbformat_minor": 0,
  "metadata": {
    "colab": {
      "provenance": [],
      "authorship_tag": "ABX9TyMSnDBXLeJqdX0rqVJ+hB+M",
      "include_colab_link": true
    },
    "kernelspec": {
      "name": "python3",
      "display_name": "Python 3"
    },
    "language_info": {
      "name": "python"
    }
  },
  "cells": [
    {
      "cell_type": "markdown",
      "metadata": {
        "id": "view-in-github",
        "colab_type": "text"
      },
      "source": [
        "<a href=\"https://colab.research.google.com/github/khankalh/PythonGenAIUdemy/blob/main/PythonUdemyclass.ipynb\" target=\"_parent\"><img src=\"https://colab.research.google.com/assets/colab-badge.svg\" alt=\"Open In Colab\"/></a>"
      ]
    },
    {
      "cell_type": "markdown",
      "source": [],
      "metadata": {
        "id": "uVp1RTZLJkok"
      }
    },
    {
      "cell_type": "code",
      "source": [
        "print(\"Hello World\")"
      ],
      "metadata": {
        "colab": {
          "base_uri": "https://localhost:8080/"
        },
        "id": "miYVTh_eLH6A",
        "outputId": "bf926636-93fc-416f-d5fb-11e6f6f29e9d"
      },
      "execution_count": null,
      "outputs": [
        {
          "output_type": "stream",
          "name": "stdout",
          "text": [
            "Hello World\n"
          ]
        }
      ]
    },
    {
      "cell_type": "markdown",
      "source": [],
      "metadata": {
        "id": "wKDPiJfNJvGK"
      }
    },
    {
      "cell_type": "code",
      "source": [
        "name = \"Hemant\"\n",
        "age = 43\n",
        "\n",
        "\n",
        "'''\n",
        "This part of the code will not be executed\n",
        "'''\n",
        "name,\",\",age"
      ],
      "metadata": {
        "colab": {
          "base_uri": "https://localhost:8080/"
        },
        "id": "dkL9lcq6HvrU",
        "outputId": "bee00a45-2715-4aad-cbfc-ce95ad0d87c5"
      },
      "execution_count": 9,
      "outputs": [
        {
          "output_type": "execute_result",
          "data": {
            "text/plain": [
              "('Hemant', ',', 43)"
            ]
          },
          "metadata": {},
          "execution_count": 9
        }
      ]
    }
  ]
}